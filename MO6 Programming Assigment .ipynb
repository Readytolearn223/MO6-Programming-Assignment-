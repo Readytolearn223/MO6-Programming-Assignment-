{
 "cells": [
  {
   "cell_type": "code",
   "execution_count": 18,
   "metadata": {},
   "outputs": [],
   "source": [
    "#13.1\n",
    "\n",
    "\n",
    "from datetime import datetime \n",
    "current_date=datetime.now().strftime(\"%Y-%m-%d\")\n",
    "with open(\"today.txt,\" ,\"w\") as file:\n",
    "    file.write(current_date)"
   ]
  },
  {
   "cell_type": "code",
   "execution_count": 17,
   "metadata": {},
   "outputs": [
    {
     "name": "stdout",
     "output_type": "stream",
     "text": [
      "2024-04-29\n"
     ]
    }
   ],
   "source": [
    "#13.2\n",
    "\n",
    "with open(\"today.txt\",\"r\") as file:\n",
    "    today_string=file.read()\n",
    "    print(today_string)"
   ]
  },
  {
   "cell_type": "code",
   "execution_count": 20,
   "metadata": {},
   "outputs": [
    {
     "name": "stdout",
     "output_type": "stream",
     "text": [
      "Parsed date: 2024-04-29 00:00:00\n"
     ]
    }
   ],
   "source": [
    "\n",
    "#13.3\n",
    "from datetime import datetime\n",
    "today_string = \"2024-04-29\"  \n",
    "parsed_date = datetime.strptime(today_string, \"%Y-%m-%d\")\n",
    "print(\"Parsed date:\", parsed_date)\n",
    "\n"
   ]
  }
 ],
 "metadata": {
  "kernelspec": {
   "display_name": "Python 3",
   "language": "python",
   "name": "python3"
  },
  "language_info": {
   "codemirror_mode": {
    "name": "ipython",
    "version": 3
   },
   "file_extension": ".py",
   "mimetype": "text/x-python",
   "name": "python",
   "nbconvert_exporter": "python",
   "pygments_lexer": "ipython3",
   "version": "3.12.2"
  }
 },
 "nbformat": 4,
 "nbformat_minor": 2
}
